{
 "cells": [
  {
   "cell_type": "code",
<<<<<<< HEAD
   "execution_count": 15,
=======
   "execution_count": 16,
>>>>>>> e632e64167dc78b1c76b5ef1e449748e498a1856
   "metadata": {},
   "outputs": [],
   "source": [
    "class Test:\n",
    "    pass\n",
    "\n",
    "class Anime:\n",
    "    \"\"\"Даний клас описує Аніме за нашими вподобаннями.\n",
    "    \"\"\"\n",
<<<<<<< HEAD
    "    def __init__(self, title: str, amount_of_heros:int=None) -> None:\n",
    "        self.title = title\n",
    "        self.amount_of_heros = amount_of_heros\n",
=======
    "    def __init__(self, title: str) -> None:\n",
    "        self.title = title\n",
>>>>>>> e632e64167dc78b1c76b5ef1e449748e498a1856
    "    \n",
    "    def set_score(self, score: int):\n",
    "        self.score = score\n",
    "        print(f\"Ми оцінили аніме {self.title} на оцінку {self.score}\")\n",
    "    \n",
    "    def __repr__(self) -> str:\n",
    "        return f\"Це обєкт класу {Anime} з назвою {self.title}\"\n",
    "    \n",
    "    def __str__(self) -> str:\n",
<<<<<<< HEAD
    "        return f\"Тайтл нашого аніме: {self.title}\"\n",
    "    \n",
    "    def __len__(self) -> int:\n",
    "        return self.amount_of_heros\n",
    "    \n",
    "    def __eq__(self, __value: object) -> bool:\n",
    "        if isinstance(__value, int):\n",
    "            return self.amount_of_heros == __value\n",
    "        if isinstance(__value, Anime):\n",
    "            return self.amount_of_heros == __value.amount_of_heros\n",
    "        return False"
   ]
  },
  {
   "cell_type": "code",
   "execution_count": 21,
   "metadata": {},
   "outputs": [
    {
     "name": "stdout",
     "output_type": "stream",
     "text": [
      "Ми оцінили аніме UndeadUnluck на оцінку 9\n",
      "Застосування прінт до обєектів дасть: Тайтл нашого аніме: UndeadUnluck ||| <__main__.Test object at 0x000001AC8AD60610>\n",
      "Представлення обєктів має вигляд: Це обєкт класу <class '__main__.Anime'> з назвою UndeadUnluck ||| <__main__.Test object at 0x000001AC8AD60610>\n",
      "Даний клас описує Аніме за нашими вподобаннями.\n",
      "    \n"
     ]
    }
   ],
   "source": [
    "t = Test()\n",
    "a = Anime(\"UndeadUnluck\", amount_of_heros=2)\n",
    "b = Anime(\"Сходження в тіні\", amount_of_heros=8)\n",
    "\n",
    "a.set_score(9)\n",
    "\n",
    "print(f\"Застосування прінт до обєектів дасть: {a} ||| {t}\")\n",
    "print(f\"Представлення обєктів має вигляд: {repr(a)} ||| {repr(t)}\")\n",
    "print(Anime.__doc__)"
=======
    "        return f\"Тайтл нашого аніме: {self.title}\""
>>>>>>> e632e64167dc78b1c76b5ef1e449748e498a1856
   ]
  },
  {
   "cell_type": "code",
   "execution_count": 17,
   "metadata": {},
   "outputs": [
    {
     "name": "stdout",
     "output_type": "stream",
     "text": [
<<<<<<< HEAD
      "Якщо ми визначаємо довжину обєкта, то будемо мати: Сходження в тіні = 8 , це кількість головних героїв в Аніме.\n"
=======
      "Ми оцінили аніме UndeadUnluck на оцінку 9\n",
      "Застосування прінт до обєектів дасть: Тайтл нашого аніме: UndeadUnluck ||| <__main__.Test object at 0x000001F0F6CE9950>\n",
      "Представлення обєктів має вигляд: Це обєкт класу <class '__main__.Anime'> з назвою UndeadUnluck ||| <__main__.Test object at 0x000001F0F6CE9950>\n",
      "Даний клас описує Аніме за нашими вподобаннями.\n",
      "    \n"
>>>>>>> e632e64167dc78b1c76b5ef1e449748e498a1856
     ]
    }
   ],
   "source": [
<<<<<<< HEAD
    "print(f\"Якщо ми визначаємо довжину обєкта, то будемо мати: {b.title} = {len(b)} , це кількість головних героїв в Аніме.\")"
=======
    "t = Test()\n",
    "a = Anime(\"UndeadUnluck\")\n",
    "\n",
    "a.set_score(9)\n",
    "\n",
    "print(f\"Застосування прінт до обєектів дасть: {a} ||| {t}\")\n",
    "print(f\"Представлення обєктів має вигляд: {repr(a)} ||| {repr(t)}\")\n",
    "print(Anime.__doc__)"
>>>>>>> e632e64167dc78b1c76b5ef1e449748e498a1856
   ]
  },
  {
   "cell_type": "code",
<<<<<<< HEAD
   "execution_count": 25,
=======
   "execution_count": 19,
>>>>>>> e632e64167dc78b1c76b5ef1e449748e498a1856
   "metadata": {},
   "outputs": [
    {
     "name": "stdout",
     "output_type": "stream",
     "text": [
<<<<<<< HEAD
      "Порівнюємо обєкти:\n",
      "Однакового класу: False,\n",
      "Порівняння з числом: True,\n",
      "Порівняння з іншим класом: False\n"
=======
      "\n",
      "Requests HTTP Library\n",
      "~~~~~~~~~~~~~~~~~~~~~\n",
      "\n",
      "Requests is an HTTP library, written in Python, for human beings. Basic GET\n",
      "usage:\n",
      "\n",
      "   >>> import requests\n",
      "   >>> r = requests.get('https://www.python.org')\n",
      "   >>> r.status_code\n",
      "   200\n",
      "   >>> 'Python is a programming language' in r.content\n",
      "   True\n",
      "\n",
      "... or POST:\n",
      "\n",
      "   >>> payload = dict(key1='value1', key2='value2')\n",
      "   >>> r = requests.post('https://httpbin.org/post', data=payload)\n",
      "   >>> print(r.text)\n",
      "   {\n",
      "     ...\n",
      "     \"form\": {\n",
      "       \"key2\": \"value2\",\n",
      "       \"key1\": \"value1\"\n",
      "     },\n",
      "     ...\n",
      "   }\n",
      "\n",
      "The other HTTP methods are supported - see `requests.api`. Full documentation\n",
      "is at <http://python-requests.org>.\n",
      "\n",
      ":copyright: (c) 2017 by Kenneth Reitz.\n",
      ":license: Apache 2.0, see LICENSE for more details.\n",
      "\n"
>>>>>>> e632e64167dc78b1c76b5ef1e449748e498a1856
     ]
    }
   ],
   "source": [
<<<<<<< HEAD
    "print(f\"Порівнюємо обєкти:\\nОднакового класу: {a == b},\\nПорівняння з числом: {a == 2},\\nПорівняння з іншим класом: {a == t}\")"
=======
    "import requests\n",
    "\n",
    "print(requests.__doc__)"
>>>>>>> e632e64167dc78b1c76b5ef1e449748e498a1856
   ]
  }
 ],
 "metadata": {
  "kernelspec": {
   "display_name": "Python 3",
   "language": "python",
   "name": "python3"
  },
  "language_info": {
   "codemirror_mode": {
    "name": "ipython",
    "version": 3
   },
   "file_extension": ".py",
   "mimetype": "text/x-python",
   "name": "python",
   "nbconvert_exporter": "python",
   "pygments_lexer": "ipython3",
   "version": "3.11.5"
  }
 },
 "nbformat": 4,
 "nbformat_minor": 2
}
