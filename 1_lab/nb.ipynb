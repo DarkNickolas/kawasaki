{
 "cells": [
  {
   "cell_type": "markdown",
   "metadata": {},
   "source": [
    "### Працюємо з програмою на Python в інтерактивному режимі\n",
    ">будемо пояснювати код програми у кожній комірці;"
   ]
  },
  {
   "cell_type": "markdown",
   "metadata": {},
   "source": [
    "- комірка здійснює імпорт всіх необхідний для роботи бібліотек:"
   ]
  },
  {
   "cell_type": "code",
   "execution_count": 29,
   "metadata": {},
   "outputs": [],
   "source": [
    "from datetime import datetime\n",
    "from time import time, localtime, strftime"
   ]
  },
  {
   "cell_type": "markdown",
   "metadata": {},
   "source": [
    "- комірка задає змінні:"
   ]
  },
  {
   "cell_type": "code",
   "execution_count": 30,
   "metadata": {},
   "outputs": [],
   "source": [
    "name = \"Богдан\"\n",
    "location = \"Україна\""
   ]
  },
  {
   "cell_type": "markdown",
   "metadata": {},
   "source": [
    "- здійснимо вивід тексту за допомогою команди `print`:"
   ]
  },
  {
   "cell_type": "code",
   "execution_count": 31,
   "metadata": {},
   "outputs": [
    {
     "name": "stdout",
     "output_type": "stream",
     "text": [
      "Богдан почав вчитись програмуванню 2023-09-20 12:51:34.149118. Доброго вечора, ми з Україна!\n"
     ]
    }
   ],
   "source": [
    "print(f\"{name} почав вчитись програмуванню {datetime.now()}. Доброго вечора, ми з {location}!\")"
   ]
  },
  {
   "cell_type": "markdown",
   "metadata": {},
   "source": [
    "- попратикуємось з комірками після того як модифікували код додавши нову бібліотеку"
   ]
  },
  {
   "cell_type": "code",
   "execution_count": 32,
   "metadata": {},
   "outputs": [
    {
     "name": "stdout",
     "output_type": "stream",
     "text": [
      "Богдан почав вчитись програмуванню 1695203494.1641319\n"
     ]
    }
   ],
   "source": [
    "print(f\"{name} почав вчитись програмуванню {time()}\")"
   ]
  },
  {
   "cell_type": "markdown",
   "metadata": {},
   "source": [
    ">запитались у ChatGPT як вивести час у зрозумілому для людини форматі"
   ]
  },
  {
   "cell_type": "code",
   "execution_count": 33,
   "metadata": {},
   "outputs": [
    {
     "name": "stdout",
     "output_type": "stream",
     "text": [
      "Богдан почав програмувати: 20.09.2023 12:51:34 \n",
      "Я ❤ програмування.\n"
     ]
    }
   ],
   "source": [
    "current_time = time()  # Отримуємо поточний час у форматі Unix timestamp\n",
    "local_time = localtime(current_time)  # Перетворюємо час у локальний час\n",
    "\n",
    "# Форматуємо час у звичний для людини формат\n",
    "formatted_time = strftime(\"%d.%m.%Y %H:%M:%S\", local_time)\n",
    "\n",
    "print(f\"{name} почав програмувати:\", formatted_time, \"\\nЯ \\u2764 програмування.\")"
   ]
  }
 ],
 "metadata": {
  "kernelspec": {
   "display_name": "Python 3",
   "language": "python",
   "name": "python3"
  },
  "language_info": {
   "codemirror_mode": {
    "name": "ipython",
    "version": 3
   },
   "file_extension": ".py",
   "mimetype": "text/x-python",
   "name": "python",
   "nbconvert_exporter": "python",
   "pygments_lexer": "ipython3",
   "version": "3.10.6"
  },
  "orig_nbformat": 4
 },
 "nbformat": 4,
 "nbformat_minor": 2
}
