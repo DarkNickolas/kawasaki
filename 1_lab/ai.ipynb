{
 "cells": [
  {
   "cell_type": "markdown",
   "metadata": {},
   "source": [
    "### Запитуємось в ChatGPT як розпочати програмувати на Python\n",
    ">відповідь ми трохи модифікували бо АІ давав просто рекоментадії які просто так не всталяться"
   ]
  },
  {
   "cell_type": "markdown",
   "metadata": {},
   "source": [
    "Звісно, ось початкова програма на Python для студентів-початківців, разом із поясненнями кожного кроку. Вам потрібно відкрити Jupyter Notebook та вставити цей код у комірку для Python."
   ]
  },
  {
   "cell_type": "code",
   "execution_count": 2,
   "metadata": {},
   "outputs": [
    {
     "ename": "SyntaxError",
     "evalue": "unterminated string literal (detected at line 4) (1282863390.py, line 4)",
     "output_type": "error",
     "traceback": [
      "\u001b[1;36m  Cell \u001b[1;32mIn[2], line 4\u001b[1;36m\u001b[0m\n\u001b[1;33m    ім'я = input(\"Введіть ваше ім'я: \")\u001b[0m\n\u001b[1;37m                                     ^\u001b[0m\n\u001b[1;31mSyntaxError\u001b[0m\u001b[1;31m:\u001b[0m unterminated string literal (detected at line 4)\n"
     ]
    }
   ],
   "source": [
    "# Програма для виведення привітання та введення імені користувача\n",
    "\n",
    "# Використовуємо функцію input() для отримання імені користувача\n",
    "ім'я = input(\"Введіть ваше ім'я: \")\n",
    "\n",
    "# Виводимо привітання разом із ім'ям користувача\n",
    "print(\"Привіт, \" + ім'я + \"!\")"
   ]
  },
  {
   "cell_type": "code",
   "execution_count": 3,
   "metadata": {},
   "outputs": [
    {
     "ename": "SyntaxError",
     "evalue": "unterminated string literal (detected at line 1) (370602710.py, line 1)",
     "output_type": "error",
     "traceback": [
      "\u001b[1;36m  Cell \u001b[1;32mIn[3], line 1\u001b[1;36m\u001b[0m\n\u001b[1;33m    ім'я = input(\"Введіть ваше ім'я: \")\u001b[0m\n\u001b[1;37m                                     ^\u001b[0m\n\u001b[1;31mSyntaxError\u001b[0m\u001b[1;31m:\u001b[0m unterminated string literal (detected at line 1)\n"
     ]
    }
   ],
   "source": [
    "ім'я = input(\"Введіть ваше ім'я: \")\n",
    "ім'я = input(\"Введіть ваше ім'я: \")"
   ]
  },
  {
   "cell_type": "markdown",
   "metadata": {},
   "source": [
    ">Програма від chatGPT некоректно працює бо він задав змінні кирилицею.\n",
    "\n",
    ">після уточнень АІ так і не зміг виправити помилку\n",
    "\n",
    ">давайте модифікуємо цю програму самостійно"
   ]
  },
  {
   "cell_type": "code",
   "execution_count": 1,
   "metadata": {},
   "outputs": [
    {
     "name": "stdout",
     "output_type": "stream",
     "text": [
      "Привіт, Богдан!\n"
     ]
    }
   ],
   "source": [
    "# Програма для виведення привітання та введення імені користувача\n",
    "\n",
    "# Використовуємо функцію input() для отримання імені користувача\n",
    "name = input(\"Введіть ваше ім'я: \")\n",
    "\n",
    "# Виводимо привітання разом із ім'ям користувача\n",
    "print(\"Привіт, \" + name + \"!\")"
   ]
  },
  {
   "cell_type": "markdown",
   "metadata": {},
   "source": [
    "### Пояснення коду:\n",
    "\n",
    "1. `ім'я = input(\"Введіть ваше ім'я: \")`: В цьому рядку ми використовуємо функцію `input()`, яка дозволяє користувачу ввести текст з клавіатури. Перед викликом `input()`, ми виводимо текст `\"Введіть ваше ім'я: \"`, щоб запросити користувача ввести своє ім'я. Користувацький ввід буде збережено у змінній `ім'я`.\n",
    "\n",
    "2. `print(\"Привіт, \" + ім'я + \"!\")`: У цьому рядку ми використовуємо функцію `print()`, щоб вивести привітання разом із ім'ям користувача. Ми використовуємо оператор `+` для об'єднання рядків, де `\"Привіт, \"` - це початкова частина рядка, `ім'я` - ім'я, яке користувач ввів раніше, і `!` - завершуючий символ."
   ]
  },
  {
   "cell_type": "markdown",
   "metadata": {},
   "source": [
    "Ця програма проста, але вона дозволить студентам познайомитися зі вводом і виводом даних в Python та використанням змінних. Вони будуть вводити своє ім'я, а програма виведе привітання з їхнім іменем."
   ]
  }
 ],
 "metadata": {
  "kernelspec": {
   "display_name": "Python 3",
   "language": "python",
   "name": "python3"
  },
  "language_info": {
   "codemirror_mode": {
    "name": "ipython",
    "version": 3
   },
   "file_extension": ".py",
   "mimetype": "text/x-python",
   "name": "python",
   "nbconvert_exporter": "python",
   "pygments_lexer": "ipython3",
   "version": "3.11.5"
  },
  "orig_nbformat": 4
 },
 "nbformat": 4,
 "nbformat_minor": 2
}
